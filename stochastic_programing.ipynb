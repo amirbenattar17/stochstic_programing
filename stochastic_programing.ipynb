{
  "nbformat": 4,
  "nbformat_minor": 0,
  "metadata": {
    "colab": {
      "provenance": [],
      "toc_visible": true,
      "authorship_tag": "ABX9TyPhNhkcBcB16r5PV9HNGwUy",
      "include_colab_link": true
    },
    "kernelspec": {
      "name": "python3",
      "display_name": "Python 3"
    },
    "language_info": {
      "name": "python"
    }
  },
  "cells": [
    {
      "cell_type": "markdown",
      "metadata": {
        "id": "view-in-github",
        "colab_type": "text"
      },
      "source": [
        "<a href=\"https://colab.research.google.com/github/amirbenattar17/stochstic_programing/blob/main/stochastic_programing.ipynb\" target=\"_parent\"><img src=\"https://colab.research.google.com/assets/colab-badge.svg\" alt=\"Open In Colab\"/></a>"
      ]
    },
    {
      "cell_type": "code",
      "execution_count": 1,
      "metadata": {
        "id": "aS2zJPbn90rk"
      },
      "outputs": [],
      "source": [
        "import numpy as np\n",
        "from scipy.optimize import linprog"
      ]
    },
    {
      "cell_type": "markdown",
      "source": [
        "# Stochastic Proccess"
      ],
      "metadata": {
        "id": "_7xv9HQ8Dqg2"
      }
    },
    {
      "cell_type": "markdown",
      "source": [
        "## chapter 1"
      ],
      "metadata": {
        "id": "5RFJCWiNDsB7"
      }
    },
    {
      "cell_type": "markdown",
      "source": [
        "### 1.1 Farmer's problem\n",
        "Consider a European farmer who specializes in raising wheat, corn, and sugar beets \\\\\n",
        "on his 500 acres of land. During the winter, he wants to decide how much land to\n",
        "devote to each crop. \\\\\n",
        "The farmer knows that at least 200 tons (T) of wheat and 240 T of corn are needed \\\\\n",
        "for cattle feed. These amounts can be raised on the farm or bought from a wholesaler. \\\\\n",
        "Any production in excess of the feeding requirement would be sold. Over the last\n",
        "decade, mean selling prices have been \\\\$ 170 and \\\\$ 150 per ton of wheat and corn,\n",
        "respectively. The purchase prices are 40% more than this due to the wholesaler’s\n",
        "margin and transportation costs. \\\\\n",
        "Another profitable crop is sugar beet, which he expects to sell at \\$36/T however, \\\\\n",
        "the European Commission imposes a quota on sugar beet production. Any amount\n",
        "in excess of the quota can be sold only at \\\\$10/T. The farmer’s quota for next year is \\\\\n",
        "6000 T. \\\\\n",
        "Based on past experience, \\\\\n",
        "the farmer knows that the mean yield on his land is\n",
        "roughly 2.5 T, 3 T, and 20 T per acre for wheat, corn, and sugar beets, respectively. \\\\\n",
        "Table 1 summarizes these data and the planting costs for these crops.\n",
        "\n",
        "<br>\n",
        "$$\n",
        "\\begin{align} \\\\\n",
        "  x1 &= \\text{achers wheat} \\\\\n",
        "  x2 &= \\text{achres corn} \\\\\n",
        "  x3 &= \\text{achres sugar beats} \\\\\n",
        "  w1 &= \\text{wheat sold tons} \\\\\n",
        "  w2 &= \\text{corn sold tons} \\\\ \n",
        "  w3 &= \\text{sugar beans at good price sold tons} \\\\\n",
        "  w4 &= \\text{sugar beans at lower price sold tons} \\\\\n",
        "  y1 &= \\text{wheat purchased tons} \\\\\n",
        "  y2 &= \\text{corn purchased} \\\\  \n",
        "\\end{align}\n",
        "$$\n",
        "\n",
        "#### Farmer's Problem Data (Table 1)\n",
        "\n",
        "| Crop         | Required Amount (T) | Mean Yield (T/acre) | Planting Cost (\\$/acre) | Excess Price (\\$/T) | Minimum to Grow (T) |\n",
        "|--------------|---------------------|-----------------------|-------------------------------|-------------------------|-------------------------|\n",
        "| Wheat        | $\\geq$ 200          | 2.5                   | \\$100                       |                         |     200                    |\n",
        "| Corn         | $\\geq$ 240          | 3                     | \\$200                       |                         |  240                       |\n",
        "| Sugar Beets  | Quota: 6000         | 20                    | \\$150                       | \\$10                    |                         |\n",
        "\n",
        "\n",
        "#### Farmer's Problem settings\n",
        "\n",
        "\\begin{align}\n",
        "  & \\min{\\: -(170w_1 + 150w_2 + 36w3 + 10w4) + \\\\\n",
        "  (100x_1  + 200x_2 + 150x_3) + (200y_1 + 240y_2)} \\\\\n",
        "  & s.t \\quad  x1 + x2 + x3 \\leq 500 \\\\\n",
        "  & \\quad \\quad 2.5x1 + y1  - w_1\\geq 200 \\\\\n",
        "  & \\quad \\quad 3x2 + y2 - w_2\\geq 240 \\\\ \n",
        "  & \\quad \\quad w3 + w4 \\leq 20x_3 \\\\\n",
        "  & \\quad \\quad w_3 \\leq 6000 \\\\\n",
        "  & \\forall \\text{var} \\geq 0\n",
        "\\end{align}\n",
        "\n",
        "\n"
      ],
      "metadata": {
        "id": "V0EGBWRRD7Mu"
      }
    },
    {
      "cell_type": "code",
      "source": [
        "'''python code for 1.1'''\n",
        "\n",
        "c = np.array([150, 230, 260, -170, -150, -36, -10, 238, 210])\n",
        "\n",
        "# Inequality constraints coefficients\n",
        "A_ub = np.array([[1, 1, 1, 0, 0, 0, 0, 0, 0],\n",
        "                 [-2.5, 0, 0, 1, 0, 0, 0, -1, 0],\n",
        "                 [0, -3, 0, 0, 1, 0, 0, 0, -1],\n",
        "                 [0, 0, -20, 0, 0, 1, 1, 0, 0],\n",
        "                 ])\n",
        "\n",
        "# Inequality constraints upper bounds\n",
        "b_ub = np.array([500, -200, -240, 0])\n",
        "\n",
        "\n",
        "# Variable bounds\n",
        "bounds = [(0, None)] * 9\n",
        "bounds[5] = (0, 6000)\n",
        "\n",
        "# Solve the linear programming problem\n",
        "res = linprog(c, A_ub=A_ub, b_ub=b_ub, bounds=bounds, )\n",
        "\n",
        "# Extract the results\n",
        "optimal_solution = res.x\n",
        "optimal_value = -res.fun\n",
        "\n",
        "# Print the optimal solution and value\n",
        "print('Optimal solution:', optimal_solution)\n",
        "print('Optimal value:', optimal_value)\n",
        "\n",
        "\n"
      ],
      "metadata": {
        "colab": {
          "base_uri": "https://localhost:8080/"
        },
        "id": "ULs-HRGwD5fR",
        "outputId": "3a84bc72-f048-4191-b3b6-bf0caaf91e14"
      },
      "execution_count": 15,
      "outputs": [
        {
          "output_type": "stream",
          "name": "stdout",
          "text": [
            "Optimal solution: [ 120.   80.  300.  100.    0. 6000.    0.    0.    0.]\n",
            "Optimal value: 118600.0\n"
          ]
        }
      ]
    },
    {
      "cell_type": "code",
      "source": [
        "3"
      ],
      "metadata": {
        "id": "4zChAZx4Hxxs"
      },
      "execution_count": null,
      "outputs": []
    }
  ]
}