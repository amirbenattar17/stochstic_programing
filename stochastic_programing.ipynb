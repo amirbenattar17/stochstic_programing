{
  "nbformat": 4,
  "nbformat_minor": 0,
  "metadata": {
    "colab": {
      "provenance": [],
      "toc_visible": true,
      "authorship_tag": "ABX9TyM2HR3eWbktLdAI+RqXUOtQ",
      "include_colab_link": true
    },
    "kernelspec": {
      "name": "python3",
      "display_name": "Python 3"
    },
    "language_info": {
      "name": "python"
    }
  },
  "cells": [
    {
      "cell_type": "markdown",
      "metadata": {
        "id": "view-in-github",
        "colab_type": "text"
      },
      "source": [
        "<a href=\"https://colab.research.google.com/github/amirbenattar17/stochstic_programing/blob/main/stochastic_programing.ipynb\" target=\"_parent\"><img src=\"https://colab.research.google.com/assets/colab-badge.svg\" alt=\"Open In Colab\"/></a>"
      ]
    },
    {
      "cell_type": "code",
      "execution_count": 1,
      "metadata": {
        "id": "aS2zJPbn90rk"
      },
      "outputs": [],
      "source": [
        "import numpy as np\n",
        "from scipy.optimize import linprog"
      ]
    },
    {
      "cell_type": "markdown",
      "source": [
        "# Stochastic Proccess"
      ],
      "metadata": {
        "id": "_7xv9HQ8Dqg2"
      }
    },
    {
      "cell_type": "markdown",
      "source": [
        "## chapter 1"
      ],
      "metadata": {
        "id": "5RFJCWiNDsB7"
      }
    },
    {
      "cell_type": "markdown",
      "source": [
        "### 1.1 Farmer's problem"
      ],
      "metadata": {
        "id": "eg7rU5NMCAiZ"
      }
    },
    {
      "cell_type": "markdown",
      "source": [
        "\n",
        "#### 1.1.1 Farmer's problem determenstic\n",
        "Consider a European farmer who specializes in raising wheat, corn, and sugar beets \\\n",
        "on his 500 acres of land. During the winter, he wants to decide how much land to\n",
        "devote to each crop. \n",
        "The farmer knows that at least 200 tons (T) of wheat and 240 T of corn are needed \\ \n",
        "for cattle feed. These amounts can be raised on the farm or bought from a wholesaler.\n",
        "Any production in excess of the feeding requirement would be sold. Over the last\n",
        "decade, mean selling prices have been \\\\$ 170 and \\\\$ 150 per ton of wheat and corn, \\\n",
        "respectively. The purchase prices are 40% more than this due to the wholesaler’s\n",
        "margin and transportation costs. \\\n",
        "Another profitable crop is sugar beet, which he expects to sell at \\$36/T however, \\\n",
        "the European Commission imposes a quota on sugar beet production. Any amount\n",
        "in excess of the quota can be sold only at \\\\$10/T. The farmer’s quota for next year is \\\n",
        "6000 T.\n",
        "Based on past experience, \\\n",
        "the farmer knows that the mean yield on his land is\n",
        "roughly 2.5 T, 3 T, and 20 T per acre for wheat, corn, and sugar beets, respectively.\n",
        "Table 1 summarizes these data and the planting costs for these crops.\n",
        "\n",
        "<br>\n",
        "$$\n",
        "\\begin{align} \\\\\n",
        "  x1 &= \\text{achers wheat} \\\\\n",
        "  x2 &= \\text{achres corn} \\\\\n",
        "  x3 &= \\text{achres sugar beats} \\\\\n",
        "  w1 &= \\text{wheat sold tons} \\\\\n",
        "  w2 &= \\text{corn sold tons} \\\\ \n",
        "  w3 &= \\text{sugar beans at good price sold tons} \\\\\n",
        "  w4 &= \\text{sugar beans at lower price sold tons} \\\\\n",
        "  y1 &= \\text{wheat purchased tons} \\\\\n",
        "  y2 &= \\text{corn purchased} \\\\  \n",
        "\\end{align}\n",
        "$$\n",
        "\n",
        "#### Farmer's Problem Data (Table 1)\n",
        "\n",
        "| Crop         | Required Amount (T) | Mean Yield (T/acre) | Planting Cost (\\$/acre) | Excess Price (\\$/T) | Minimum to Grow (T) |\n",
        "|--------------|---------------------|-----------------------|-------------------------------|-------------------------|-------------------------|\n",
        "| Wheat        | $\\geq$ 200          | 2.5                   | \\$100                       |                         |     200                    |\n",
        "| Corn         | $\\geq$ 240          | 3                     | \\$200                       |                         |  240                       |\n",
        "| Sugar Beets  | Quota: 6000         | 20                    | \\$150                       | \\$10                    |                         |\n",
        "\n",
        "\n",
        "#### Farmer's Problem settings\n",
        "\n",
        "\\begin{align}\n",
        "  & \\min{\\: -(170w_1 + 150w_2 + 36w3 + 10w4) + \\\\\n",
        "  (100x_1  + 200x_2 + 150x_3) + (200y_1 + 240y_2)} \\\\\n",
        "  & s.t \\quad  x1 + x2 + x3 \\leq 500 \\\\\n",
        "  & \\quad \\quad 2.5x1 + y1  - w_1\\geq 200 \\\\\n",
        "  & \\quad \\quad 3x2 + y2 - w_2\\geq 240 \\\\ \n",
        "  & \\quad \\quad w3 + w4 \\leq 20x_3 \\\\\n",
        "  & \\quad \\quad w_3 \\leq 6000 \\\\\n",
        "  & \\forall \\text{var} \\geq 0\n",
        "\\end{align}\n",
        "\n",
        "\n"
      ],
      "metadata": {
        "id": "V0EGBWRRD7Mu"
      }
    },
    {
      "cell_type": "code",
      "source": [
        "'''python code for 1.1'''\n",
        "\n",
        "c = np.array([150, 230, 260, -170, -150, -36, -10, 238, 210])\n",
        "\n",
        "# Inequality constraints coefficients\n",
        "A_ub = np.array([[1, 1, 1, 0, 0, 0, 0, 0, 0],\n",
        "                 [-2.5, 0, 0, 1, 0, 0, 0, -1, 0],\n",
        "                 [0, -3, 0, 0, 1, 0, 0, 0, -1],\n",
        "                 [0, 0, -20, 0, 0, 1, 1, 0, 0],\n",
        "                 ])\n",
        "\n",
        "# Inequality constraints upper bounds\n",
        "b_ub = np.array([500, -200, -240, 0])\n",
        "\n",
        "\n",
        "# Variable bounds\n",
        "bounds = [(0, None)] * 9\n",
        "bounds[5] = (0, 6000)\n",
        "\n",
        "# Solve the linear programming problem\n",
        "res = linprog(c, A_ub=A_ub, b_ub=b_ub, bounds=bounds, )\n",
        "\n",
        "# Extract the results\n",
        "optimal_solution = res.x\n",
        "optimal_value = -res.fun\n",
        "\n",
        "# Print the optimal solution as a table\n",
        "print('Optimal solution:')\n",
        "print('Variable | Value')\n",
        "print('-----------------')\n",
        "for i, var in enumerate(optimal_solution):\n",
        "    print(f'   \\033[4mx{i+1}\\033[0m    |  {var}')\n",
        "\n",
        "# Print the optimal value\n",
        "print('Optimal value:', optimal_value)\n",
        "\n",
        "\n",
        "\n",
        "\n"
      ],
      "metadata": {
        "colab": {
          "base_uri": "https://localhost:8080/"
        },
        "id": "ULs-HRGwD5fR",
        "outputId": "4605d79f-c681-4b27-eac4-3c7e54ab8465"
      },
      "execution_count": 2,
      "outputs": [
        {
          "output_type": "stream",
          "name": "stdout",
          "text": [
            "Optimal solution:\n",
            "Variable | Value\n",
            "-----------------\n",
            "   \u001b[4mx1\u001b[0m    |  120.0\n",
            "   \u001b[4mx2\u001b[0m    |  80.0\n",
            "   \u001b[4mx3\u001b[0m    |  300.0\n",
            "   \u001b[4mx4\u001b[0m    |  100.0\n",
            "   \u001b[4mx5\u001b[0m    |  0.0\n",
            "   \u001b[4mx6\u001b[0m    |  6000.0\n",
            "   \u001b[4mx7\u001b[0m    |  0.0\n",
            "   \u001b[4mx8\u001b[0m    |  0.0\n",
            "   \u001b[4mx9\u001b[0m    |  0.0\n",
            "Optimal value: 118600.0\n"
          ]
        }
      ]
    },
    {
      "cell_type": "markdown",
      "source": [
        "#### 1.1.2 Farmer's Problem with variation\n",
        "Summary:\n",
        "\n",
        "The farmer considers the possibility of correlation among the yields of different crops. To simplify, they assume that years can be categorized as good(up 20%), fair, or bad, resulting in above-average, average, or below-average (down 20%) yields for all crops. The impact of weather conditions and yields on prices is assumed to be insignificant.\n",
        "\n",
        "To assess the sensitivity of the optimal solution to yield variations, the farmer performs two additional optimizations based on above average and below average yields. The optimal solutions obtained in these cases are presented in Tables 3 and 4.\n",
        "\n",
        "In the case of above average yields, smaller land areas are needed to meet the minimum requirements in wheat, corn, and the sugar beet quota. The surplus land is allocated to wheat, and the extra production is sold. Conversely, in the case of below average yields, larger land areas are required to meet the minimum requirements and the sugar beet quota. However, corn requirements cannot be fully met through production alone, and some corn must be bought.\n",
        "\n",
        "The optimal solution is highly sensitive to yield changes. The allocated land areas for wheat range from 100 acres to 183.33 acres, for corn from 25 acres to 80 acres, and for sugar beets from 250 acres to 375 acres. Consequently, the overall profit ranges from $59,950 to $167,667.\n",
        "\n",
        "While long-term weather forecasts would be helpful, accurately predicting weather conditions six months in advance is challenging. Therefore, the farmer must make decisions without perfect information on yields.\n",
        "\n",
        "This summary provides an overview of the farmer's analysis regarding the sensitivity of the optimal solution to yield variations and the challenges associated with relying on weather predictions.\n",
        "\n",
        "\n",
        "**Table 3: Optimal solution based on above average yields (+ 20%).**\n",
        "\n",
        "| Culture   | Wheat   | Corn   | Sugar Beets |\n",
        "|-----------|---------|--------|-------------|\n",
        "| Surface (acres) | 183.33 | 66.67  | 250         |\n",
        "| Yield (T) | 550     | 240    | 6000        |\n",
        "| Sales (T) | 350     | –      | 6000        |\n",
        "| Purchase (T) | –      | –      | –           |\n",
        "| Overall profit | $167,667 | – | –       |\n",
        "\n",
        "**Table 4: Optimal solution based on below average yields (−20%).**\n",
        "\n",
        "| Culture   | Wheat   | Corn   | Sugar Beets |\n",
        "|-----------|---------|--------|-------------|\n",
        "| Surface (acres) | 100    | 25     | 375         |\n",
        "| Yield (T) | 200     | 60     | 6000        |\n",
        "| Sales (T) | –       | –      | 6000        |\n",
        "| Purchase (T) | –    | 180    | –           |\n",
        "| Overall profit | $59,950 | –  | –          |\n",
        "\n"
      ],
      "metadata": {
        "id": "mznE9IL3AY2t"
      }
    },
    {
      "cell_type": "code",
      "source": [
        "'''python code for 1.1.2'''\n",
        "\n",
        "'''20% higher '''\n",
        "wheat = -2.5 * 1.2\n",
        "corn = -3 * 1.2\n",
        "sugar_beats = -20 * 1.2  \n",
        "\n",
        "c = np.array([150, 230, 260, -170, -150, -36, -10, 238, 210])\n",
        "\n",
        "# Inequality constraints coefficients\n",
        "A_ub = np.array([[1, 1, 1, 0, 0, 0, 0, 0, 0],\n",
        "                 [wheat, 0, 0, 1, 0, 0, 0, -1, 0],\n",
        "                 [0, corn, 0, 0, 1, 0, 0, 0, -1],\n",
        "                 [0, 0, sugar_beats, 0, 0, 1, 1, 0, 0],\n",
        "                 ])\n",
        "\n",
        "# Inequality constraints upper bounds\n",
        "b_ub = np.array([500, -200, -240, 0])\n",
        "\n",
        "\n",
        "# Variable bounds\n",
        "bounds = [(0, None)] * 9\n",
        "bounds[5] = (0, 6000)\n",
        "\n",
        "# Solve the linear programming problem\n",
        "res = linprog(c, A_ub=A_ub, b_ub=b_ub, bounds=bounds, )\n",
        "\n",
        "# Extract the results\n",
        "optimal_solution = res.x\n",
        "optimal_value = -res.fun\n",
        "\n",
        "# Print the optimal solution as a table\n",
        "print('Optimal solution:')\n",
        "print('Variable | Value')\n",
        "print('-----------------')\n",
        "for i, var in enumerate(optimal_solution):\n",
        "    print(f'   \\033[4mx{i+1}\\033[0m    |  {var}')\n",
        "\n",
        "# Print the optimal value\n",
        "print('Optimal value:', optimal_value)"
      ],
      "metadata": {
        "colab": {
          "base_uri": "https://localhost:8080/"
        },
        "id": "4zChAZx4Hxxs",
        "outputId": "7f373cad-ba4c-4e48-c4db-d40dc4137026"
      },
      "execution_count": 3,
      "outputs": [
        {
          "output_type": "stream",
          "name": "stdout",
          "text": [
            "Optimal solution:\n",
            "Variable | Value\n",
            "-----------------\n",
            "   \u001b[4mx1\u001b[0m    |  183.33333333333331\n",
            "   \u001b[4mx2\u001b[0m    |  66.66666666666667\n",
            "   \u001b[4mx3\u001b[0m    |  250.0\n",
            "   \u001b[4mx4\u001b[0m    |  350.0\n",
            "   \u001b[4mx5\u001b[0m    |  0.0\n",
            "   \u001b[4mx6\u001b[0m    |  6000.0\n",
            "   \u001b[4mx7\u001b[0m    |  0.0\n",
            "   \u001b[4mx8\u001b[0m    |  0.0\n",
            "   \u001b[4mx9\u001b[0m    |  0.0\n",
            "Optimal value: 167666.6666666667\n"
          ]
        }
      ]
    },
    {
      "cell_type": "code",
      "source": [
        "'''python code for 1.1.2'''\n",
        "\n",
        "'''20% higher '''\n",
        "wheat = -2.5 * 0.8\n",
        "corn = -3 * 0.8\n",
        "sugar_beats = -20 * 0.8  \n",
        "\n",
        "c = np.array([150, 230, 260, -170, -150, -36, -10, 238, 210])\n",
        "\n",
        "# Inequality constraints coefficients\n",
        "A_ub = np.array([[1, 1, 1, 0, 0, 0, 0, 0, 0],\n",
        "                 [wheat, 0, 0, 1, 0, 0, 0, -1, 0],\n",
        "                 [0, corn, 0, 0, 1, 0, 0, 0, -1],\n",
        "                 [0, 0, sugar_beats, 0, 0, 1, 1, 0, 0],\n",
        "                 ])\n",
        "\n",
        "# Inequality constraints upper bounds\n",
        "b_ub = np.array([500, -200, -240, 0])\n",
        "\n",
        "\n",
        "# Variable bounds\n",
        "bounds = [(0, None)] * 9\n",
        "bounds[5] = (0, 6000)\n",
        "\n",
        "# Solve the linear programming problem\n",
        "res = linprog(c, A_ub=A_ub, b_ub=b_ub, bounds=bounds, )\n",
        "\n",
        "# Extract the results\n",
        "optimal_solution = res.x\n",
        "optimal_value = -res.fun\n",
        "\n",
        "# Print the optimal solution as a table\n",
        "print('Optimal solution:')\n",
        "print('Variable | Value')\n",
        "print('-----------------')\n",
        "for i, var in enumerate(optimal_solution):\n",
        "    print(f'   \\033[4mx{i+1}\\033[0m    |  {var}')\n",
        "\n",
        "# Print the optimal value\n",
        "print('Optimal value:', optimal_value)"
      ],
      "metadata": {
        "colab": {
          "base_uri": "https://localhost:8080/"
        },
        "id": "b_o572_zDRTp",
        "outputId": "1489c9f6-1a7c-4b93-98e0-9c397e6f0ccb"
      },
      "execution_count": 4,
      "outputs": [
        {
          "output_type": "stream",
          "name": "stdout",
          "text": [
            "Optimal solution:\n",
            "Variable | Value\n",
            "-----------------\n",
            "   \u001b[4mx1\u001b[0m    |  100.0\n",
            "   \u001b[4mx2\u001b[0m    |  25.0\n",
            "   \u001b[4mx3\u001b[0m    |  375.0\n",
            "   \u001b[4mx4\u001b[0m    |  0.0\n",
            "   \u001b[4mx5\u001b[0m    |  0.0\n",
            "   \u001b[4mx6\u001b[0m    |  6000.0\n",
            "   \u001b[4mx7\u001b[0m    |  0.0\n",
            "   \u001b[4mx8\u001b[0m    |  0.0\n",
            "   \u001b[4mx9\u001b[0m    |  180.0\n",
            "Optimal value: 59950.0\n"
          ]
        }
      ]
    },
    {
      "cell_type": "code",
      "source": [],
      "metadata": {
        "id": "t4siLI65DYWJ"
      },
      "execution_count": null,
      "outputs": []
    }
  ]
}